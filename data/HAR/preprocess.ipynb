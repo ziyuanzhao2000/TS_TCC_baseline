{
 "cells": [
  {
   "cell_type": "code",
   "execution_count": 1,
   "id": "aa18267b",
   "metadata": {},
   "outputs": [],
   "source": [
    "import torch\n",
    "import numpy as np\n",
    "train_dict = torch.load('train.pt')\n",
    "val_dict = torch.load('val.pt')\n",
    "test_dict = torch.load('test.pt')\n",
    "np.random.seed(42)"
   ]
  },
  {
   "cell_type": "code",
   "execution_count": 2,
   "id": "f922c71d",
   "metadata": {},
   "outputs": [],
   "source": [
    "# for each part, keep only the last three channels, which corresponds\n",
    "# to total accelerations in the x, y, z directions\n",
    "n_channels = 9\n",
    "original_window_len = 128\n",
    "expanded_window_len = 206\n",
    "train_temp = torch.zeros(train_dict['samples'].shape[0], n_channels, expanded_window_len) \n",
    "val_temp = torch.zeros(val_dict['samples'].shape[0], n_channels, expanded_window_len)\n",
    "test_temp = torch.zeros(test_dict['samples'].shape[0], n_channels, expanded_window_len)\n",
    "\n",
    "train_temp[:,:,:original_window_len] = train_dict['samples'][:,-n_channels:,:]\n",
    "val_temp[:,:,:original_window_len] = val_dict['samples'][:,-n_channels:,:]\n",
    "test_temp[:,:,:original_window_len] = test_dict['samples'][:,-n_channels:,:]\n",
    "\n",
    "train_dict['samples'] = train_temp\n",
    "val_dict['samples'] = val_temp\n",
    "test_dict['samples'] = test_temp"
   ]
  },
  {
   "cell_type": "code",
   "execution_count": 3,
   "id": "987fee2b",
   "metadata": {},
   "outputs": [],
   "source": [
    "torch.save(train_dict, 'train.pt')\n",
    "torch.save(val_dict, 'val.pt')\n",
    "torch.save(test_dict, 'test.pt')"
   ]
  },
  {
   "cell_type": "code",
   "execution_count": null,
   "id": "bb721630",
   "metadata": {},
   "outputs": [],
   "source": []
  }
 ],
 "metadata": {
  "kernelspec": {
   "display_name": "Sandbox",
   "language": "python",
   "name": "sandbox"
  },
  "language_info": {
   "codemirror_mode": {
    "name": "ipython",
    "version": 3
   },
   "file_extension": ".py",
   "mimetype": "text/x-python",
   "name": "python",
   "nbconvert_exporter": "python",
   "pygments_lexer": "ipython3",
   "version": "3.9.7"
  }
 },
 "nbformat": 4,
 "nbformat_minor": 5
}