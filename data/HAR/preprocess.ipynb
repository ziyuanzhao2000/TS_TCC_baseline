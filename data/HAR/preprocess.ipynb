{
 "cells": [
  {
   "cell_type": "code",
   "execution_count": 28,
   "id": "aa18267b",
   "metadata": {},
   "outputs": [],
   "source": [
    "import torch\n",
    "import numpy as np\n",
    "train_dict = torch.load('train.pt')\n",
    "val_dict = torch.load('val.pt')\n",
    "test_dict = torch.load('test.pt')\n",
    "np.random.seed(42)"
   ]
  },
  {
   "cell_type": "code",
   "execution_count": 23,
   "id": "f922c71d",
   "metadata": {},
   "outputs": [],
   "source": [
    "# for each part, keep only the last three channels, which corresponds\n",
    "# to total accelerations in the x, y, z directions\n",
    "train_dict['samples'] = train_dict['samples'][:,-3:,:]\n",
    "val_dict['samples'] = val_dict['samples'][:,-3:,:]\n",
    "test_dict['samples'] = test_dict['samples'][:,-3:,:]"
   ]
  },
  {
   "cell_type": "code",
   "execution_count": 25,
   "id": "987fee2b",
   "metadata": {},
   "outputs": [],
   "source": [
    "torch.save(train_dict, 'train.pt')\n",
    "torch.save(val_dict, 'val.pt')\n",
    "torch.save(test_dict, 'test.pt')"
   ]
  },
  {
   "cell_type": "code",
   "execution_count": null,
   "id": "d7a5fe4f",
   "metadata": {},
   "outputs": [],
   "source": []
  }
 ],
 "metadata": {
  "kernelspec": {
   "display_name": "Sandbox",
   "language": "python",
   "name": "sandbox"
  },
  "language_info": {
   "codemirror_mode": {
    "name": "ipython",
    "version": 3
   },
   "file_extension": ".py",
   "mimetype": "text/x-python",
   "name": "python",
   "nbconvert_exporter": "python",
   "pygments_lexer": "ipython3",
   "version": "3.9.7"
  }
 },
 "nbformat": 4,
 "nbformat_minor": 5
}